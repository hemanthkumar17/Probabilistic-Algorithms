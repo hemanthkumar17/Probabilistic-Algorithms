{
  "nbformat": 4,
  "nbformat_minor": 0,
  "metadata": {
    "colab": {
      "provenance": [],
      "authorship_tag": "ABX9TyPJpVRfB8o+6tVtXyzo+paH",
      "include_colab_link": true
    },
    "kernelspec": {
      "name": "python3",
      "display_name": "Python 3"
    },
    "language_info": {
      "name": "python"
    }
  },
  "cells": [
    {
      "cell_type": "markdown",
      "metadata": {
        "id": "view-in-github",
        "colab_type": "text"
      },
      "source": [
        "<a href=\"https://colab.research.google.com/github/hemanthkumar17/Probabilistic-Algorithms-Implementations/blob/main/Bloom_Filters.ipynb\" target=\"_parent\"><img src=\"https://colab.research.google.com/assets/colab-badge.svg\" alt=\"Open In Colab\"/></a>"
      ]
    },
    {
      "cell_type": "code",
      "execution_count": null,
      "metadata": {
        "colab": {
          "base_uri": "https://localhost:8080/"
        },
        "id": "e3KM-pH_JaKH",
        "outputId": "37f07829-a94a-4351-d69d-431ad2ccb548"
      },
      "outputs": [
        {
          "output_type": "stream",
          "name": "stdout",
          "text": [
            "Requirement already satisfied: bitarray in /usr/local/lib/python3.10/dist-packages (2.8.1)\n"
          ]
        }
      ],
      "source": [
        "!pip install bitarray"
      ]
    },
    {
      "cell_type": "code",
      "source": [
        "from sklearn.utils import murmurhash3_32\n",
        "import numpy as np\n",
        "from bitarray import bitarray\n",
        "from sklearn.model_selection import train_test_split\n",
        "import random\n",
        "import math"
      ],
      "metadata": {
        "id": "jL3mKttkJqxB"
      },
      "execution_count": null,
      "outputs": []
    },
    {
      "cell_type": "code",
      "source": [
        "seed = 4"
      ],
      "metadata": {
        "id": "SpqoJx7gJrGM"
      },
      "execution_count": null,
      "outputs": []
    },
    {
      "cell_type": "code",
      "source": [
        "def hash_factory(m, seed_val):\n",
        "    return lambda x: murmurhash3_32(x, seed = seed_val) % m"
      ],
      "metadata": {
        "id": "ZGe3x6tjJl-K"
      },
      "execution_count": null,
      "outputs": []
    },
    {
      "cell_type": "code",
      "source": [
        "class BloomFilter:\n",
        "    def __init__(self, n, fp_rate_expt, optimize=True, test_args=None):\n",
        "        fpr = lambda k, frac_rn=6: (1 - np.exp(-k / frac_rn))**k\n",
        "        if optimize:\n",
        "            k = 0\n",
        "            frac_rn = 6\n",
        "            last_rate = 1\n",
        "            while True:\n",
        "                rate = fpr(k+1, frac_rn)\n",
        "                if rate <= fp_rate_expt:\n",
        "                    break\n",
        "                else:\n",
        "                    if rate > last_rate:\n",
        "                        frac_rn += 1\n",
        "                        k = 0\n",
        "                    else:\n",
        "                        k += 1\n",
        "                last_rate = rate\n",
        "        else:\n",
        "            frac_rn = test_args\n",
        "            k = math.ceil(0.7 * frac_rn)\n",
        "            rate = fpr(k, frac_rn)\n",
        "        self.k = k\n",
        "        self.frac_rn = frac_rn\n",
        "        self.m = frac_rn * n\n",
        "        self.fpr = rate\n",
        "        print(\"frac_rn, k, rate\")\n",
        "        print(frac_rn, k, rate)\n",
        "        self.map = bitarray(self.m)\n",
        "        self.seed = random.sample(range(1000), self.k)\n",
        "        self.hashes = [hash_factory(self.m, self.seed[i]) for i in range(self.k)]\n",
        "\n",
        "\n",
        "    def insert(self, key):\n",
        "        for h in self.hashes:\n",
        "            self.map[[h(key)]] = bitarray(\"1\")\n",
        "\n",
        "    def test(self, key):\n",
        "        test = bitarray()\n",
        "        for h in self.hashes:\n",
        "            test += self.map[[h(key)]]\n",
        "        return test.count(1) == len(test)"
      ],
      "metadata": {
        "id": "afLp94A3Jh8-"
      },
      "execution_count": null,
      "outputs": []
    },
    {
      "cell_type": "code",
      "source": [
        "for fpr in [0.1, 0.01, 0.001, 0.0001]:\n",
        "    filter = BloomFilter(10000, fpr)\n",
        "\n",
        "    train, test = train_test_split(random.sample(range(10000, 99999), 11000), test_size=1000)\n",
        "    for x in train:\n",
        "        filter.insert(x)\n",
        "    test += random.sample(train, 1000)\n",
        "    print(\"Train: Test\", len(train), len(test))\n",
        "    arr = []\n",
        "    for t in test:\n",
        "        arr.append(filter.test(t))\n",
        "    print(\"Positive\")\n",
        "    print(sum(arr))\n",
        "    print(\"False Positive Rate: \", 1 - 1000 / sum(arr))\n",
        "    print(\"*\"*50)"
      ],
      "metadata": {
        "colab": {
          "base_uri": "https://localhost:8080/"
        },
        "id": "LptzznwMQ1MZ",
        "outputId": "b62946de-6c3a-43df-c91e-cbe3fb9ed7ec"
      },
      "execution_count": null,
      "outputs": [
        {
          "output_type": "stream",
          "name": "stdout",
          "text": [
            "frac_rn, k, rate\n",
            "6 1 0.08035449788501352\n",
            "Train: Test 10000 2000\n",
            "Positive\n",
            "1264\n",
            "False Positive Rate:  0.2088607594936709\n",
            "**************************************************\n",
            "frac_rn, k, rate\n",
            "10 4 0.009430929226122473\n",
            "Train: Test 10000 2000\n",
            "Positive\n",
            "1061\n",
            "False Positive Rate:  0.057492931196983954\n",
            "**************************************************\n",
            "frac_rn, k, rate\n",
            "16 5 0.0009350969211338102\n",
            "Train: Test 10000 2000\n",
            "Positive\n",
            "1007\n",
            "False Positive Rate:  0.006951340615690138\n",
            "**************************************************\n",
            "frac_rn, k, rate\n",
            "20 9 8.894242606813103e-05\n",
            "Train: Test 10000 2000\n",
            "Positive\n",
            "1000\n",
            "False Positive Rate:  0.0\n",
            "**************************************************\n"
          ]
        }
      ]
    },
    {
      "cell_type": "code",
      "source": [
        "!wget https://www.cim.mcgill.ca/~dudek/206/Logs/AOL-user-ct-collection/user-ct-test-collection-01.txt"
      ],
      "metadata": {
        "id": "Ta_GXNNkuDr0",
        "colab": {
          "base_uri": "https://localhost:8080/"
        },
        "outputId": "2d510968-086c-479d-ea0b-b524ea9234dd"
      },
      "execution_count": null,
      "outputs": [
        {
          "output_type": "stream",
          "name": "stdout",
          "text": [
            "--2023-09-21 04:03:45--  https://www.cim.mcgill.ca/~dudek/206/Logs/AOL-user-ct-collection/user-ct-test-collection-01.txt\n",
            "Resolving www.cim.mcgill.ca (www.cim.mcgill.ca)... 132.206.70.20\n",
            "Connecting to www.cim.mcgill.ca (www.cim.mcgill.ca)|132.206.70.20|:443... connected.\n",
            "HTTP request sent, awaiting response... 200 OK\n",
            "Length: 222762553 (212M) [text/plain]\n",
            "Saving to: ‘user-ct-test-collection-01.txt.1’\n",
            "\n",
            "user-ct-test-collec 100%[===================>] 212.44M  27.9MB/s    in 12s     \n",
            "\n",
            "2023-09-21 04:03:58 (17.6 MB/s) - ‘user-ct-test-collection-01.txt.1’ saved [222762553/222762553]\n",
            "\n"
          ]
        }
      ]
    },
    {
      "cell_type": "code",
      "source": [
        "import csv\n",
        "import pandas as pd\n",
        "data = pd.read_csv(\"user-ct-test-collection-01.txt\", sep=\"\\t\")\n",
        "urllist = data.ClickURL.dropna().unique()"
      ],
      "metadata": {
        "id": "DYxz6HRFtbYO"
      },
      "execution_count": null,
      "outputs": []
    },
    {
      "cell_type": "code",
      "source": [
        "len(urllist)"
      ],
      "metadata": {
        "colab": {
          "base_uri": "https://localhost:8080/"
        },
        "id": "FdSumCgVthXm",
        "outputId": "29d3ecce-a77c-437d-f860-b6fcab539e84"
      },
      "execution_count": null,
      "outputs": [
        {
          "output_type": "execute_result",
          "data": {
            "text/plain": [
              "377870"
            ]
          },
          "metadata": {},
          "execution_count": 72
        }
      ]
    },
    {
      "cell_type": "code",
      "source": [
        "import string\n",
        "import sys\n",
        "fpr = []\n",
        "for frac_rn in range(6, 12):\n",
        "    filter = BloomFilter(n=len(urllist), fp_rate_expt=0.001, optimize=False, test_args=(frac_rn))\n",
        "\n",
        "    train = urllist\n",
        "    test = urllist[np.random.randint(0, len(urllist), 1000)]\n",
        "    for x in train:\n",
        "        filter.insert(x)\n",
        "    for i in range(1000):\n",
        "        test = np.append(test, ''.join(random.choices(string.ascii_uppercase + string.digits, k=np.random.randint(12, 64))))\n",
        "    print(\"Train: Test\", len(train), len(test))\n",
        "    arr = []\n",
        "    for t in test:\n",
        "        arr.append(filter.test(t))\n",
        "    print(\"Positive\")\n",
        "    print(sum(arr))\n",
        "    print(\"False Positive Rate: \", 1 - 1000 / sum(arr))\n",
        "    print(\"Bloom filter memory size: \", sys.getsizeof(filter.map))\n",
        "    print(\"*\"*50)\n",
        "    fpr.append(1 - 1000 / sum(arr))"
      ],
      "metadata": {
        "colab": {
          "base_uri": "https://localhost:8080/"
        },
        "id": "LviqqdN-7PiJ",
        "outputId": "4ff30ffe-6a7a-4abe-eea9-aef05589b975"
      },
      "execution_count": null,
      "outputs": [
        {
          "output_type": "stream",
          "name": "stdout",
          "text": [
            "frac_rn, k, rate\n",
            "6 5 0.057781112738492\n",
            "Train: Test 377870 2000\n",
            "Positive\n",
            "1139\n",
            "False Positive Rate:  0.12203687445127309\n",
            "Bloom filter memory size:  283483\n",
            "**************************************************\n",
            "frac_rn, k, rate\n",
            "7 5 0.034657842279599324\n",
            "Train: Test 377870 2000\n",
            "Positive\n",
            "1135\n",
            "False Positive Rate:  0.11894273127753308\n",
            "Bloom filter memory size:  330717\n",
            "**************************************************\n",
            "frac_rn, k, rate\n",
            "8 6 0.021577141463219263\n",
            "Train: Test 377870 2000\n",
            "Positive\n",
            "1102\n",
            "False Positive Rate:  0.09255898366606174\n",
            "Bloom filter memory size:  377950\n",
            "**************************************************\n",
            "frac_rn, k, rate\n",
            "9 7 0.013489227049382223\n",
            "Train: Test 377870 2000\n",
            "Positive\n",
            "1194\n",
            "False Positive Rate:  0.16247906197654938\n",
            "Bloom filter memory size:  425184\n",
            "**************************************************\n",
            "frac_rn, k, rate\n",
            "10 7 0.008193722065862417\n",
            "Train: Test 377870 2000\n",
            "Positive\n",
            "1230\n",
            "False Positive Rate:  0.1869918699186992\n",
            "Bloom filter memory size:  472418\n",
            "**************************************************\n",
            "frac_rn, k, rate\n",
            "11 8 0.00508641064362711\n",
            "Train: Test 377870 2000\n",
            "Positive\n",
            "1033\n",
            "False Positive Rate:  0.03194578896418199\n",
            "Bloom filter memory size:  519652\n",
            "**************************************************\n"
          ]
        }
      ]
    },
    {
      "cell_type": "code",
      "source": [
        "import matplotlib.pyplot as plt\n",
        "plt.plot(range(6, 12), fpr)"
      ],
      "metadata": {
        "colab": {
          "base_uri": "https://localhost:8080/",
          "height": 447
        },
        "id": "WUvfZr7c752p",
        "outputId": "19a702e1-3a32-4d73-e790-4df7a6995b4b"
      },
      "execution_count": null,
      "outputs": [
        {
          "output_type": "execute_result",
          "data": {
            "text/plain": [
              "[<matplotlib.lines.Line2D at 0x7b221dfaa650>]"
            ]
          },
          "metadata": {},
          "execution_count": 106
        },
        {
          "output_type": "display_data",
          "data": {
            "text/plain": [
              "<Figure size 640x480 with 1 Axes>"
            ],
            "image/png": "[encoded data removed]"
          },
          "metadata": {}
        }
      ]
    },
    {
      "cell_type": "code",
      "source": [
        "hashmap = {}\n",
        "for x in urllist:\n",
        "    hashmap[x] = True\n",
        "print(\"hashmap_memory_size\", sys.getsizeof(hashmap))"
      ],
      "metadata": {
        "colab": {
          "base_uri": "https://localhost:8080/"
        },
        "id": "iqCYX3dj9Rbw",
        "outputId": "ad8b3a5c-d796-4179-cbae-639aae467425"
      },
      "execution_count": null,
      "outputs": [
        {
          "output_type": "stream",
          "name": "stdout",
          "text": [
            "hashmap_memory_size 20971608\n"
          ]
        }
      ]
    },
    {
      "cell_type": "code",
      "source": [
        "print(\"Theoretical size:\")\n",
        "for r in range(6, 12):\n",
        "    print(r * len(urllist))"
      ],
      "metadata": {
        "colab": {
          "base_uri": "https://localhost:8080/"
        },
        "id": "daQi7bpd_uh4",
        "outputId": "e64778ba-fa2d-4fc1-f1c5-1f5538e8377b"
      },
      "execution_count": null,
      "outputs": [
        {
          "output_type": "stream",
          "name": "stdout",
          "text": [
            "Theoretical size:\n",
            "2267220\n",
            "2645090\n",
            "3022960\n",
            "3400830\n",
            "3778700\n",
            "4156570\n"
          ]
        }
      ]
    },
    {
      "cell_type": "markdown",
      "source": [
        "Bitarray uses slightly more memory than the theoretical value seen for Bloom filters. This is due to several optimizations in place for the language to work better with this class object.\n",
        "<br>\n",
        "The python hashtable performs terribly in this problem, requiring much more memoery. This shows that Bloomfilters are much more efficient when theres less memory to use and computation is lenient.\n",
        "<br>\n",
        "For the experiments conducted, due to the low number of samples(1000), the fpr does not match the theoretical fpr but does come closer on average if multiple experiments are conducted on the same setting."
      ],
      "metadata": {
        "id": "hQgESv7HBTVr"
      }
    }
  ]
}